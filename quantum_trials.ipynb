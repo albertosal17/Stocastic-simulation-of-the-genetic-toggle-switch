{
 "cells": [
  {
   "cell_type": "code",
   "execution_count": 6,
   "id": "b3a1fe50",
   "metadata": {},
   "outputs": [],
   "source": [
    "import pandas as pd\n",
    "\n",
    "from quantum import compute_binarized_matrix\n",
    "from stochastic_model import make_toggle_switch_stochastic\n",
    "from utils import from_molecules_to_uM, from_molecules_to_uM\n",
    "\n",
    "debug_flag=True"
   ]
  },
  {
   "cell_type": "code",
   "execution_count": 2,
   "id": "0b074959",
   "metadata": {},
   "outputs": [
    {
     "name": "stdout",
     "output_type": "stream",
     "text": [
      "Initial conditions: u_0 = 4.25 uM, v_0 = 0.25 uM\n"
     ]
    }
   ],
   "source": [
    "###########################################################################\n",
    "# Dati sperimetali\n",
    "molecules_per_uM = 500 # molecole/uM : circa 500 molecole per avere una concentrazione molare di 1 uM\n",
    "\n",
    "\n",
    "###########################################################################\n",
    "#  Parameters\n",
    "n = 3 # hill parameter\n",
    "\n",
    "alpha_1 = 0.2 # uM/ min\n",
    "alpha_2 = alpha_1 \n",
    "\n",
    "beta_1 = 4 # uM/ min\n",
    "beta_2 = beta_1 \n",
    "\n",
    "K1 = 1 # uM\n",
    "K2 = K1\n",
    "\n",
    "d1_base = 1 # 1/min. Si chiama base perchè è il valore per istanti iniziali (fra 0 e 60 min). Dopodichè aumenta (vedi dopo)\n",
    "d2 = d1_base\n",
    "\n",
    "gamma = 1 # 1/min\n",
    "\n",
    "epsilon = 1\n",
    "\n",
    "s = 1.7  # adimensional\n",
    "\n",
    "\n",
    "\n",
    "###########################################################################\n",
    "# Initial conditions (numero di molecole!)\n",
    "u_0_nmolecules = 2125 # λCI\n",
    "v_0_nmolecules = 125 # LacR\n",
    "\n",
    "\n",
    "\n",
    "# intial conditions in uM\n",
    "u_0 = from_molecules_to_uM(u_0_nmolecules, molecules_per_uM)\n",
    "v_0 = from_molecules_to_uM(v_0_nmolecules, molecules_per_uM)\n",
    "print(f\"Initial conditions: u_0 = {u_0:.2f} uM, v_0 = {v_0:.2f} uM\")\n",
    "\n",
    "\n",
    "###########################################################################\n",
    "# MMC induction window\n",
    "t_start_MMC = 60 # min\n",
    "t_end_MMC = 960 # min\n"
   ]
  },
  {
   "cell_type": "markdown",
   "id": "f2354ef5",
   "metadata": {},
   "source": [
    "#### Generating the binarized matrix from the stochastic model\n"
   ]
  },
  {
   "cell_type": "code",
   "execution_count": 10,
   "id": "45e787a9",
   "metadata": {},
   "outputs": [
    {
     "name": "stderr",
     "output_type": "stream",
     "text": [
      "  0%|          | 0/28000 [00:00<?, ?it/s]"
     ]
    },
    {
     "name": "stderr",
     "output_type": "stream",
     "text": [
      "100%|██████████| 28000/28000 [19:14<00:00, 24.26it/s] \n"
     ]
    }
   ],
   "source": [
    "model = make_toggle_switch_stochastic(alpha_1, beta_1, alpha_2, beta_2, K1, K2,\n",
    "                                      d1_base, n, d2, gamma, epsilon, u_0_nmolecules, v_0_nmolecules, debug_flag=False)\n",
    "\n",
    "s=1.7\n",
    "tau_init = 0.5\n",
    "\n",
    "X, _ = compute_binarized_matrix(model, s, tau_init, debug_flag)"
   ]
  },
  {
   "cell_type": "code",
   "execution_count": 12,
   "id": "04da5023",
   "metadata": {},
   "outputs": [
    {
     "data": {
      "text/html": [
       "<div>\n",
       "<style scoped>\n",
       "    .dataframe tbody tr th:only-of-type {\n",
       "        vertical-align: middle;\n",
       "    }\n",
       "\n",
       "    .dataframe tbody tr th {\n",
       "        vertical-align: top;\n",
       "    }\n",
       "\n",
       "    .dataframe thead th {\n",
       "        text-align: right;\n",
       "    }\n",
       "</style>\n",
       "<table border=\"1\" class=\"dataframe\">\n",
       "  <thead>\n",
       "    <tr style=\"text-align: right;\">\n",
       "      <th></th>\n",
       "      <th>0</th>\n",
       "      <th>1</th>\n",
       "      <th>2</th>\n",
       "      <th>3</th>\n",
       "      <th>4</th>\n",
       "      <th>5</th>\n",
       "      <th>6</th>\n",
       "      <th>7</th>\n",
       "      <th>8</th>\n",
       "      <th>9</th>\n",
       "      <th>...</th>\n",
       "      <th>990</th>\n",
       "      <th>991</th>\n",
       "      <th>992</th>\n",
       "      <th>993</th>\n",
       "      <th>994</th>\n",
       "      <th>995</th>\n",
       "      <th>996</th>\n",
       "      <th>997</th>\n",
       "      <th>998</th>\n",
       "      <th>999</th>\n",
       "    </tr>\n",
       "  </thead>\n",
       "  <tbody>\n",
       "    <tr>\n",
       "      <th>λCI</th>\n",
       "      <td>0</td>\n",
       "      <td>0</td>\n",
       "      <td>0</td>\n",
       "      <td>0</td>\n",
       "      <td>1</td>\n",
       "      <td>0</td>\n",
       "      <td>0</td>\n",
       "      <td>1</td>\n",
       "      <td>0</td>\n",
       "      <td>0</td>\n",
       "      <td>...</td>\n",
       "      <td>1</td>\n",
       "      <td>1</td>\n",
       "      <td>0</td>\n",
       "      <td>1</td>\n",
       "      <td>1</td>\n",
       "      <td>0</td>\n",
       "      <td>0</td>\n",
       "      <td>1</td>\n",
       "      <td>1</td>\n",
       "      <td>0</td>\n",
       "    </tr>\n",
       "    <tr>\n",
       "      <th>LacR</th>\n",
       "      <td>1</td>\n",
       "      <td>1</td>\n",
       "      <td>1</td>\n",
       "      <td>1</td>\n",
       "      <td>0</td>\n",
       "      <td>1</td>\n",
       "      <td>1</td>\n",
       "      <td>0</td>\n",
       "      <td>1</td>\n",
       "      <td>1</td>\n",
       "      <td>...</td>\n",
       "      <td>0</td>\n",
       "      <td>0</td>\n",
       "      <td>1</td>\n",
       "      <td>0</td>\n",
       "      <td>0</td>\n",
       "      <td>1</td>\n",
       "      <td>1</td>\n",
       "      <td>0</td>\n",
       "      <td>0</td>\n",
       "      <td>1</td>\n",
       "    </tr>\n",
       "  </tbody>\n",
       "</table>\n",
       "<p>2 rows × 1000 columns</p>\n",
       "</div>"
      ],
      "text/plain": [
       "      0  1  2  3  4  5  6  7  8  9  ...  990  991  992  993  994  995  996  \\\n",
       "λCI   0  0  0  0  1  0  0  1  0  0  ...    1    1    0    1    1    0    0   \n",
       "LacR  1  1  1  1  0  1  1  0  1  1  ...    0    0    1    0    0    1    1   \n",
       "\n",
       "      997  998  999  \n",
       "λCI     1    1    0  \n",
       "LacR    0    0    1  \n",
       "\n",
       "[2 rows x 1000 columns]"
      ]
     },
     "execution_count": 12,
     "metadata": {},
     "output_type": "execute_result"
    }
   ],
   "source": [
    "#Loading the data form .txt file\n",
    "X = pd.read_csv(\"quantum_results/binarized_matrix_s_1_7_nsim_1000.csv\", delimiter=\",\", index_col=0)\n",
    "X"
   ]
  }
 ],
 "metadata": {
  "kernelspec": {
   "display_name": "base",
   "language": "python",
   "name": "python3"
  },
  "language_info": {
   "codemirror_mode": {
    "name": "ipython",
    "version": 3
   },
   "file_extension": ".py",
   "mimetype": "text/x-python",
   "name": "python",
   "nbconvert_exporter": "python",
   "pygments_lexer": "ipython3",
   "version": "3.9.18"
  }
 },
 "nbformat": 4,
 "nbformat_minor": 5
}
